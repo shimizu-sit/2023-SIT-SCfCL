{
  "cells": [
    {
      "cell_type": "markdown",
      "metadata": {
        "id": "8qZfGQT4EuLM"
      },
      "source": [
        "# コンピュータリテラシ発展 第9回 課題\n",
        "\n",
        "今回の課題は**文字列操作とCSVデータの処理**の問題が6問です．"
      ]
    },
    {
      "cell_type": "markdown",
      "metadata": {
        "id": "tIfC-YwmE1wP"
      },
      "source": [
        "## 注意事項\n",
        "\n",
        "このノートブックは，授業中に作成したフォルダを利用してください．\n",
        "\n",
        "`/content/drive/MyDrive/???`\n",
        "\n",
        "課題内で「作業場所」という言葉が出てきます．それは授業中に作成したフォルダのことです．"
      ]
    },
    {
      "cell_type": "markdown",
      "metadata": {
        "id": "SqGZqqvOonpU"
      },
      "source": [
        "## ライブラリをインポート\n",
        "各自必要と思うライブラリなどをインポートしてください．"
      ]
    },
    {
      "cell_type": "code",
      "execution_count": null,
      "metadata": {
        "id": "wPr-hUowogGZ"
      },
      "outputs": [],
      "source": []
    },
    {
      "cell_type": "markdown",
      "metadata": {
        "id": "UhFuNEeJHw78"
      },
      "source": [
        "## 問題1：（準備）フォルダとファイルの作成\n",
        "\n",
        "作業場所に「Prac09」という名前の新しいフォルダを作成してください．作成したフォルダ内に「Prac09-1.txt」ファイルを作成してください．\n",
        "「Prac09-1.txt」の内容は次のテキストを入れてください．\n",
        "\n",
        "```\n",
        "高度情報化社会の根底をなすコンピュータ技術と、それを応用した情報システムのプロフェッショナルなエンジニア育成を目指している。\n",
        "```\n"
      ]
    },
    {
      "cell_type": "code",
      "execution_count": null,
      "metadata": {
        "id": "bFs8zE75H1sJ"
      },
      "outputs": [],
      "source": []
    },
    {
      "cell_type": "markdown",
      "metadata": {
        "id": "SBHSm4ORH66A"
      },
      "source": [
        "## 問題2：find()メソッド\n",
        "\n",
        "問題1で作成したファイルを読み込み「情報」という文字列の有無と開始位置を検索してください．"
      ]
    },
    {
      "cell_type": "code",
      "execution_count": null,
      "metadata": {
        "id": "iMign_KuH-UR"
      },
      "outputs": [],
      "source": []
    },
    {
      "cell_type": "markdown",
      "metadata": {
        "id": "fET-7B9zH-bR"
      },
      "source": [
        "## 問題3：（準備）ファイルの作成\n",
        "\n",
        "「Prac09」フォルダに新しく「Prac09-2.txt」ファイルを作成してください．「Prac09-2.txt」の内容は次のテキストを入れてください．\n",
        "\n",
        "```\n",
        "大学入試・キャンパス見学に関すること\n",
        "窓口：入試課（本館1F）\n",
        "住所：〒251-8511 神奈川県藤沢市辻堂西海岸1-1-25\n",
        "電話：0466-30-1234\n",
        "E-mail：nyushika@center.shonan-it.ac.jp\n",
        "\n",
        "大学院入試に関すること\n",
        "窓口：入試課（本館1F）\n",
        "住所：〒251-8511 神奈川県藤沢市辻堂西海岸1-1-25\n",
        "電話：0466-30-5678\n",
        "E-mail：ny-daigakuin@center.shonan-it.ac.jp\n",
        "\n",
        "学費に関すること\n",
        "窓口：事務課（本館1F）\n",
        "住所：〒251-8511 神奈川県藤沢市辻堂西海岸1-1-25\n",
        "電話：0466-30-9012\n",
        "E-mail：syomuka@center.shonan-it.ac.jp\n",
        "\n",
        "学生証・各種証明書の発行・奨学金に関すること\n",
        "窓口：学生課（本館1F）\n",
        "住所：〒251-8511 神奈川県藤沢市辻堂西海岸1-1-25\n",
        "電話：0466-30-3456\n",
        "E-mail：gakusei@center.shonan-it.ac.jp\n",
        "```\n"
      ]
    },
    {
      "cell_type": "code",
      "execution_count": null,
      "metadata": {
        "id": "qjcMj-WAILfI"
      },
      "outputs": [],
      "source": []
    },
    {
      "cell_type": "markdown",
      "metadata": {
        "id": "tv0fA6ilRzWf"
      },
      "source": [
        "## 問題4：正規表現で検索と置換\n",
        "\n",
        "問題3で作成した「Prac09-2.txt」ファイルを読み込んで，**正規表現**を使って電話番号を検索してください．\n",
        "電話番号に誤りがあるのですべて「0466-30-0271」に置換してください．"
      ]
    },
    {
      "cell_type": "code",
      "execution_count": null,
      "metadata": {
        "id": "OEgx49gdSBMe"
      },
      "outputs": [],
      "source": []
    },
    {
      "cell_type": "markdown",
      "metadata": {
        "id": "CtBiiqggxaet"
      },
      "source": [
        "## 問題5：CSVファイルの出力\n",
        "\n",
        "「Prac09」フォルダに新しく「Prac09-3.csv」ファイルを作成してください．\n",
        "「Prac09-3.csv」ファイルの中身は次のようにしてください．\n",
        "\n",
        "**※アルファベットの順番に誤りがありますがそのままにしてください．**\n",
        "\n",
        "```\n",
        "A, B, C, D, E\n",
        "F, G, H, I, J\n",
        "K, L, N, M, O\n",
        "P, Q, R, S, T\n",
        "U, W, V, X, Y\n",
        "Z,\n",
        "```\n"
      ]
    },
    {
      "cell_type": "code",
      "execution_count": null,
      "metadata": {
        "id": "z6WtcFARyzVd"
      },
      "outputs": [],
      "source": []
    },
    {
      "cell_type": "markdown",
      "metadata": {
        "id": "P88tVRvFy3o8"
      },
      "source": [
        "## 問題6：CSVファイルの加工\n",
        "\n",
        "問題5で作成した「Prac09-3.csv」ファイルの中身には，アルファベットの順番に誤りがあります．\n",
        "これを修正してください．\n"
      ]
    },
    {
      "cell_type": "code",
      "execution_count": null,
      "metadata": {
        "id": "IIXQOm9GzLGO"
      },
      "outputs": [],
      "source": []
    }
  ],
  "metadata": {
    "colab": {
      "provenance": [],
      "toc_visible": true
    },
    "kernelspec": {
      "display_name": "Python 3",
      "name": "python3"
    },
    "language_info": {
      "name": "python"
    }
  },
  "nbformat": 4,
  "nbformat_minor": 0
}
