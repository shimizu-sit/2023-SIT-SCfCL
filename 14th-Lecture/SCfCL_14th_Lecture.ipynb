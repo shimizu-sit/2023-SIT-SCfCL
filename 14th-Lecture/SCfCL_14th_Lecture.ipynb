{
  "nbformat": 4,
  "nbformat_minor": 0,
  "metadata": {
    "colab": {
      "provenance": []
    },
    "kernelspec": {
      "name": "python3",
      "display_name": "Python 3"
    },
    "language_info": {
      "name": "python"
    }
  },
  "cells": [
    {
      "cell_type": "markdown",
      "source": [
        "# 第14回 コンピュータリテラシ発展\n",
        "\n",
        "## 目標\n",
        "\n",
        "- 技術評論社から最近発売された100冊の書籍の中から書籍タイトルに「Python」と含まれているかどうかを基準におすすめ書籍を選定します\n",
        "- 演習のためにsampleプロジェクトの直下に「scraping」というフォルダを作成します"
      ],
      "metadata": {
        "id": "Fm2iW4jffGDR"
      }
    },
    {
      "cell_type": "markdown",
      "source": [
        "## ライブラリなどのインポート\n",
        "\n",
        "今回は以下のライブラリなどをインポートします\n",
        "\n",
        "- requests モジュール\n",
        "- time"
      ],
      "metadata": {
        "id": "5yxQ3WKFl7S6"
      }
    },
    {
      "cell_type": "code",
      "source": [
        "import time\n",
        "\n",
        "import requests\n",
        "from bs4 import BeautifulSoup\n",
        "\n",
        "for page_num in range(4):\n",
        "  url = 'https://gihyo.jp/book/genre'\n",
        "  params = {\n",
        "      'g' : 'プログラミング・システム開発',\n",
        "      'page' : page_num\n",
        "  }\n",
        "\n",
        "  r = requests.get(url, params)\n",
        "\n",
        "  html = r.text\n",
        "  soup = BeautifulSoup(html, 'lxml')\n",
        "\n",
        "  book_elems = soup.select('#mainbook>ul>li>div.data>h3>a')\n",
        "\n",
        "  for book_elem in book_elems:\n",
        "    book_title = book_elem.text\n",
        "    if 'Python' in book_title:\n",
        "      print(book_title)\n",
        "      book_url = book_elem.get('href')\n",
        "      print('https://gihyo.jp' + book_url)\n",
        "\n",
        "  time.sleep(1)"
      ],
      "metadata": {
        "id": "6HJ0nNI2rhg6",
        "colab": {
          "base_uri": "https://localhost:8080/"
        },
        "outputId": "2970faed-a472-4369-cbc9-eb907687d824"
      },
      "execution_count": null,
      "outputs": [
        {
          "output_type": "stream",
          "name": "stdout",
          "text": [
            "Pythonによるはじめてのアルゴリズム入門\n",
            "https://gihyo.jp/book/2024/978-4-297-13887-5\n",
            "Pythonで学ぶはじめてのデータサイエンス\n",
            "https://gihyo.jp/book/2023/978-4-297-13421-1\n",
            "Python演習で初歩から学ぶ 実習統計学入門\n",
            "https://gihyo.jp/book/2023/978-4-297-13411-2\n",
            "Pythonでチャレンジするプログラミング入門――もう挫折しない！10の壁を越えてプログラマーになろう\n",
            "https://gihyo.jp/book/2023/978-4-297-13292-7\n",
            "これからはじめる Python入門講座——文法から機械学習までの基本を理解\n",
            "https://gihyo.jp/book/2023/978-4-297-13200-2\n",
            "Pythonで学ぶ衛星データ解析基礎――環境変化を定量的に把握しよう\n",
            "https://gihyo.jp/book/2022/978-4-297-13232-3\n",
            "Pythonで理解する微分積分の基礎\n",
            "https://gihyo.jp/book/2022/978-4-297-12779-4\n",
            "ワンランク上を目指す人のためのPython実践活用ガイド――自動化スクリプト、テキスト処理、統計学の初歩をマスター\n",
            "https://gihyo.jp/book/2022/978-4-297-12639-1\n"
          ]
        }
      ]
    }
  ]
}