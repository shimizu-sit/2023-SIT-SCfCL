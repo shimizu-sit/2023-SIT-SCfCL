{
  "nbformat": 4,
  "nbformat_minor": 0,
  "metadata": {
    "colab": {
      "provenance": []
    },
    "kernelspec": {
      "name": "python3",
      "display_name": "Python 3"
    },
    "language_info": {
      "name": "python"
    }
  },
  "cells": [
    {
      "cell_type": "markdown",
      "source": [
        "# 第13回　コンピュータリテラシ発展\n",
        "\n",
        "## 問題点と目標\n",
        "\n",
        "### 問題点\n",
        "- ファイルとフォルダの管理ルールが不適切\n",
        "- 請求書のファイル名が不規則かつ，ファイルが分散している\n",
        "\n",
        "### 目標\n",
        "- 請求書は「請求書_会社名+様+YYYY年MM月」に統一\n",
        "- お客様の会社ごとにフォルダを作成\n",
        "- 請求書以外のファイルは移動操作を行わない"
      ],
      "metadata": {
        "id": "8xWYZxMXvjHZ"
      }
    },
    {
      "cell_type": "markdown",
      "source": [
        "## データの準備\n",
        "\n",
        "これから行う分析のためにデータを準備します\n",
        "[Moodle](https://moodle2023.shonan-it.ac.jp/mod/resource/view.php?id=56158)もしくは，[GitHub](https://github.com/shimizu-sit/2023-SIT-SCfCL/blob/main/13th-Lecture/before.zip)にある「before.zip」をダウンロードして解凍してください．  \n",
        "作業場所に「organize_data」フォルダを作成してそこの「before」フォルダをアップロードしてください．  \n",
        "「organize_data」の中に「before」フォルダがあり，その中に「佐藤」と「田中」フォルダがあります．"
      ],
      "metadata": {
        "id": "BSIJ09vov8Jj"
      }
    },
    {
      "cell_type": "markdown",
      "source": [
        "## ライブラリ等のインポート\n",
        "\n",
        "必要なライブラリを事前にインポートしておきます．\n",
        "\n",
        "今回使用するライブラリは `shutil`, `glob`, `re`, `os`, `openpyxl` です．"
      ],
      "metadata": {
        "id": "tjMwm9stw2yq"
      }
    },
    {
      "cell_type": "code",
      "source": [
        "import os, re, shutil, glob\n",
        "\n",
        "import openpyxl"
      ],
      "metadata": {
        "id": "13GbwsTtxZZY"
      },
      "execution_count": 1,
      "outputs": []
    },
    {
      "cell_type": "markdown",
      "source": [
        "## フォルダパスの設定\n",
        "\n",
        "パスが長くなるのでフォルダパスを設定します．"
      ],
      "metadata": {
        "id": "1oeatLT_yD5q"
      }
    },
    {
      "cell_type": "code",
      "source": [
        "org_path = '/content/drive/MyDrive/SIT_2023/SCfCL/organize_data/'"
      ],
      "metadata": {
        "id": "D9WqvGXtyNyQ"
      },
      "execution_count": 4,
      "outputs": []
    },
    {
      "cell_type": "markdown",
      "source": [
        "## 作業用フォルダにすべてのファイルをコピーする"
      ],
      "metadata": {
        "id": "33v2TBzDxm7l"
      }
    },
    {
      "cell_type": "code",
      "source": [
        "try:\n",
        "  shutil.copytree(org_path + 'before', org_path + 'after')\n",
        "except FileExistsError as e:\n",
        "  print('すでにafterフォルダが存在します')"
      ],
      "metadata": {
        "id": "7em-ySlaxsj8"
      },
      "execution_count": 5,
      "outputs": []
    },
    {
      "cell_type": "markdown",
      "source": [
        "## すべてのファイルを取得する"
      ],
      "metadata": {
        "id": "2PhY08aR017X"
      }
    },
    {
      "cell_type": "code",
      "source": [
        "files = glob.glob(org_path + 'after/**', recursive=True)\n",
        "\n",
        "files"
      ],
      "metadata": {
        "colab": {
          "base_uri": "https://localhost:8080/"
        },
        "id": "IvUv4LQM06Db",
        "outputId": "d033d16c-4d8f-45c8-d9d2-ac0763b969d8"
      },
      "execution_count": 9,
      "outputs": [
        {
          "output_type": "execute_result",
          "data": {
            "text/plain": [
              "['/content/drive/MyDrive/SIT_2023/SCfCL/organize_data/after/',\n",
              " '/content/drive/MyDrive/SIT_2023/SCfCL/organize_data/after/佐藤',\n",
              " '/content/drive/MyDrive/SIT_2023/SCfCL/organize_data/after/佐藤/タスク管理.xlsx',\n",
              " '/content/drive/MyDrive/SIT_2023/SCfCL/organize_data/after/佐藤/請求書_202002_DEF商事様.xlsx',\n",
              " '/content/drive/MyDrive/SIT_2023/SCfCL/organize_data/after/田中',\n",
              " '/content/drive/MyDrive/SIT_2023/SCfCL/organize_data/after/田中/ABCホールディングス_2020年2月.xlsx',\n",
              " '/content/drive/MyDrive/SIT_2023/SCfCL/organize_data/after/田中/ABCホールディングス_2020年3月.xlsx',\n",
              " '/content/drive/MyDrive/SIT_2023/SCfCL/organize_data/after/田中/DEF商事_202001.xlsx']"
            ]
          },
          "metadata": {},
          "execution_count": 9
        }
      ]
    },
    {
      "cell_type": "markdown",
      "source": [
        "## 取得したファイルが請求書ファイルかどうか判別する"
      ],
      "metadata": {
        "id": "QIkzD98S2s3o"
      }
    },
    {
      "cell_type": "markdown",
      "source": [
        "### 拡張子が「.xlsx」かどうかを確認"
      ],
      "metadata": {
        "id": "zIpzbPod2v5E"
      }
    },
    {
      "cell_type": "code",
      "source": [
        "def check_excel_file(file):\n",
        "  if '.xlsx' in file:\n",
        "    return True\n",
        "  else:\n",
        "    return False\n",
        "\n",
        "for file in files:\n",
        "  if check_excel_file(file):\n",
        "    print('「' + file + '」はExcelです．')\n",
        "  else:\n",
        "    print('「' + file + '」はExcelではないです．')"
      ],
      "metadata": {
        "colab": {
          "base_uri": "https://localhost:8080/"
        },
        "id": "k5dHKIk421At",
        "outputId": "ff692101-52ad-4ba7-b238-9b077a6e4b69"
      },
      "execution_count": 14,
      "outputs": [
        {
          "output_type": "stream",
          "name": "stdout",
          "text": [
            "「/content/drive/MyDrive/SIT_2023/SCfCL/organize_data/after/」はExcelではないです．\n",
            "「/content/drive/MyDrive/SIT_2023/SCfCL/organize_data/after/佐藤」はExcelではないです．\n",
            "「/content/drive/MyDrive/SIT_2023/SCfCL/organize_data/after/佐藤/タスク管理.xlsx」はExcelです．\n",
            "「/content/drive/MyDrive/SIT_2023/SCfCL/organize_data/after/佐藤/請求書_202002_DEF商事様.xlsx」はExcelです．\n",
            "「/content/drive/MyDrive/SIT_2023/SCfCL/organize_data/after/田中」はExcelではないです．\n",
            "「/content/drive/MyDrive/SIT_2023/SCfCL/organize_data/after/田中/ABCホールディングス_2020年2月.xlsx」はExcelです．\n",
            "「/content/drive/MyDrive/SIT_2023/SCfCL/organize_data/after/田中/ABCホールディングス_2020年3月.xlsx」はExcelです．\n",
            "「/content/drive/MyDrive/SIT_2023/SCfCL/organize_data/after/田中/DEF商事_202001.xlsx」はExcelです．\n"
          ]
        }
      ]
    },
    {
      "cell_type": "markdown",
      "source": [
        "### シート名が「請求書」かどうかを確認"
      ],
      "metadata": {
        "id": "qY6AAExS5l_6"
      }
    },
    {
      "cell_type": "code",
      "source": [
        "invoice_sheet_name = '請求書'\n",
        "\n",
        "def check_invoice_excel_file(wb):\n",
        "  if invoice_sheet_name in wb.sheetnames:\n",
        "    return True\n",
        "  else:\n",
        "    return False\n",
        "\n",
        "for file in files:\n",
        "  if check_excel_file(file):\n",
        "    wb = openpyxl.load_workbook(file)\n",
        "    if check_invoice_excel_file(wb):\n",
        "      print('「' + file + '」は請求書です．')\n",
        "    else:\n",
        "      print('「' + file + '」は請求書ではないです．')\n",
        "  else:\n",
        "    print('「' + file + '」はExcelではないです．')\n"
      ],
      "metadata": {
        "colab": {
          "base_uri": "https://localhost:8080/"
        },
        "id": "C4l39JFr5pzV",
        "outputId": "629cd3a5-ca0c-4add-ee66-08b728fa3dc7"
      },
      "execution_count": 16,
      "outputs": [
        {
          "output_type": "stream",
          "name": "stdout",
          "text": [
            "「/content/drive/MyDrive/SIT_2023/SCfCL/organize_data/after/」はExcelではないです．\n",
            "「/content/drive/MyDrive/SIT_2023/SCfCL/organize_data/after/佐藤」はExcelではないです．\n",
            "「/content/drive/MyDrive/SIT_2023/SCfCL/organize_data/after/佐藤/タスク管理.xlsx」は請求書ではないです．\n",
            "「/content/drive/MyDrive/SIT_2023/SCfCL/organize_data/after/佐藤/請求書_202002_DEF商事様.xlsx」は請求書です．\n",
            "「/content/drive/MyDrive/SIT_2023/SCfCL/organize_data/after/田中」はExcelではないです．\n",
            "「/content/drive/MyDrive/SIT_2023/SCfCL/organize_data/after/田中/ABCホールディングス_2020年2月.xlsx」は請求書です．\n",
            "「/content/drive/MyDrive/SIT_2023/SCfCL/organize_data/after/田中/ABCホールディングス_2020年3月.xlsx」は請求書です．\n",
            "「/content/drive/MyDrive/SIT_2023/SCfCL/organize_data/after/田中/DEF商事_202001.xlsx」は請求書です．\n"
          ]
        },
        {
          "output_type": "stream",
          "name": "stderr",
          "text": [
            "/usr/local/lib/python3.10/dist-packages/openpyxl/worksheet/_reader.py:329: UserWarning: Unknown extension is not supported and will be removed\n",
            "  warn(msg)\n",
            "/usr/local/lib/python3.10/dist-packages/openpyxl/worksheet/header_footer.py:48: UserWarning: Cannot parse header or footer so it will be ignored\n",
            "  warn(\"\"\"Cannot parse header or footer so it will be ignored\"\"\")\n",
            "/usr/local/lib/python3.10/dist-packages/openpyxl/worksheet/_reader.py:329: UserWarning: Conditional Formatting extension is not supported and will be removed\n",
            "  warn(msg)\n"
          ]
        }
      ]
    },
    {
      "cell_type": "markdown",
      "source": [
        "## 新しいファイル名とフォルダ名を取得する"
      ],
      "metadata": {
        "id": "k9QmAba7FojC"
      }
    },
    {
      "cell_type": "markdown",
      "source": [
        "### 会社名を取得する"
      ],
      "metadata": {
        "id": "cpithly_Fua9"
      }
    },
    {
      "cell_type": "code",
      "source": [
        "corporate_name_cell = 'B2'\n",
        "\n",
        "def get_invoice_corporate_name(wb):\n",
        "  name = wb[invoice_sheet_name][corporate_name_cell].value\n",
        "  return name\n",
        "\n",
        "for file in files:\n",
        "  if check_excel_file(file):\n",
        "    wb = openpyxl.load_workbook(file)\n",
        "    if check_invoice_excel_file(wb):\n",
        "      name = get_invoice_corporate_name(wb)\n",
        "      print(name)"
      ],
      "metadata": {
        "colab": {
          "base_uri": "https://localhost:8080/"
        },
        "id": "bmPQ0ahPFwwv",
        "outputId": "85b58383-1749-4ef8-a990-105e665bbacf"
      },
      "execution_count": 20,
      "outputs": [
        {
          "output_type": "stream",
          "name": "stdout",
          "text": [
            "株式会社DEF商事\n",
            "株式会社ABCホールディングス\n",
            "株式会社ABCホールディングス\n",
            "株式会社DEF商事\n"
          ]
        }
      ]
    },
    {
      "cell_type": "markdown",
      "source": [
        "### 請求書の発行年月を取得する"
      ],
      "metadata": {
        "id": "xv6quXJbHPdK"
      }
    },
    {
      "cell_type": "code",
      "source": [
        "invoice_created_date_cell = 'B5'\n",
        "\n",
        "def get_invoice_created_date(wb):\n",
        "  # 値「日付YYYY/MM」が取り出される\n",
        "  value = wb[invoice_sheet_name][invoice_created_date_cell].value\n",
        "\n",
        "  # 請求書の日付「YYYY/MM」を取得する正規表現を準備\n",
        "  invoice_created_date_regex = re.compile(r'\\d\\d\\d\\d/\\d\\d')\n",
        "  invoice_created_date_match = invoice_created_date_regex.search(value)\n",
        "\n",
        "  # 文字列YYYY/MMが取り出される\n",
        "  date = invoice_created_date_match.group()\n",
        "  return date\n",
        "\n",
        "for file in files:\n",
        "  if check_excel_file(file):\n",
        "    wb = openpyxl.load_workbook(file)\n",
        "    if check_invoice_excel_file(wb):\n",
        "      date = get_invoice_created_date(wb)\n",
        "      print(date)"
      ],
      "metadata": {
        "colab": {
          "base_uri": "https://localhost:8080/"
        },
        "id": "XY0_TAN_HTBR",
        "outputId": "662406ec-ea20-4614-a6ed-d2997fa05087"
      },
      "execution_count": 18,
      "outputs": [
        {
          "output_type": "stream",
          "name": "stdout",
          "text": [
            "2020/02\n",
            "2020/02\n",
            "2020/03\n",
            "2020/01\n"
          ]
        },
        {
          "output_type": "stream",
          "name": "stderr",
          "text": [
            "/usr/local/lib/python3.10/dist-packages/openpyxl/worksheet/_reader.py:329: UserWarning: Unknown extension is not supported and will be removed\n",
            "  warn(msg)\n",
            "/usr/local/lib/python3.10/dist-packages/openpyxl/worksheet/header_footer.py:48: UserWarning: Cannot parse header or footer so it will be ignored\n",
            "  warn(\"\"\"Cannot parse header or footer so it will be ignored\"\"\")\n",
            "/usr/local/lib/python3.10/dist-packages/openpyxl/worksheet/_reader.py:329: UserWarning: Conditional Formatting extension is not supported and will be removed\n",
            "  warn(msg)\n"
          ]
        }
      ]
    },
    {
      "cell_type": "markdown",
      "source": [
        "### 請求書ファイル名をフォーマット通りの形にする"
      ],
      "metadata": {
        "id": "pKsKeKHgJZ06"
      }
    },
    {
      "cell_type": "code",
      "source": [
        "def get_new_invoice_file_name(wb):\n",
        "  invoice_corporate_name = get_invoice_corporate_name(wb)\n",
        "  invoice_created_date = get_invoice_created_date(wb)\n",
        "  #文字列YYYY/MMをYYYY年MM月に変換する\n",
        "  formatted_date='{0}年{1}月'.format(invoice_created_date[0:4],invoice_created_date[5:7])\n",
        "  #ファイル名を生成:例「請求書_株式会社A様_2020年6月」\n",
        "  file_name='請求書_{0}様_{1}'.format(invoice_corporate_name,formatted_date)\n",
        "  file_name_with_ext=file_name+'.xlsx'\n",
        "  return file_name_with_ext,invoice_corporate_name\n",
        "\n",
        "for file in files:\n",
        "  if check_excel_file(file):\n",
        "    wb = openpyxl.load_workbook(file)\n",
        "    if check_invoice_excel_file(wb):\n",
        "      new_file_name,new_dir_name=get_new_invoice_file_name(wb)\n",
        "      print(new_file_name, new_dir_name)"
      ],
      "metadata": {
        "colab": {
          "base_uri": "https://localhost:8080/"
        },
        "id": "A7dickfMJeTw",
        "outputId": "1892ba83-35e7-4e59-a6b9-a057467feedd"
      },
      "execution_count": 21,
      "outputs": [
        {
          "output_type": "stream",
          "name": "stdout",
          "text": [
            "請求書_株式会社DEF商事様_2020年02月.xlsx 株式会社DEF商事\n",
            "請求書_株式会社ABCホールディングス様_2020年02月.xlsx 株式会社ABCホールディングス\n",
            "請求書_株式会社ABCホールディングス様_2020年03月.xlsx 株式会社ABCホールディングス\n",
            "請求書_株式会社DEF商事様_2020年01月.xlsx 株式会社DEF商事\n"
          ]
        }
      ]
    },
    {
      "cell_type": "markdown",
      "source": [
        "## 新しいフォルダを作成する"
      ],
      "metadata": {
        "id": "XPWDL6QFLr3l"
      }
    },
    {
      "cell_type": "code",
      "source": [
        "import os\n",
        "\n",
        "def make_new_invoice_dir(invoice_corporate_name):\n",
        "  dir_path = org_path + 'after/' + invoice_corporate_name\n",
        "  os.makedirs(dir_path,exist_ok=True)\n",
        "  return dir_path\n",
        "\n",
        "for file in files:\n",
        "  if check_excel_file(file):\n",
        "    wb = openpyxl.load_workbook(file)\n",
        "    if check_invoice_excel_file(wb):\n",
        "      new_file_name,new_dir_name=get_new_invoice_file_name(wb)\n",
        "      new_dir_path = make_new_invoice_dir(new_dir_name)\n",
        "\n",
        "new_dir = os.listdir(org_path + 'after/')\n",
        "new_dir"
      ],
      "metadata": {
        "colab": {
          "base_uri": "https://localhost:8080/"
        },
        "id": "2qvHK4veLuhM",
        "outputId": "59932a9c-0e9d-4705-de22-d0c9cad052b1"
      },
      "execution_count": 23,
      "outputs": [
        {
          "output_type": "stream",
          "name": "stderr",
          "text": [
            "/usr/local/lib/python3.10/dist-packages/openpyxl/worksheet/_reader.py:329: UserWarning: Unknown extension is not supported and will be removed\n",
            "  warn(msg)\n",
            "/usr/local/lib/python3.10/dist-packages/openpyxl/worksheet/header_footer.py:48: UserWarning: Cannot parse header or footer so it will be ignored\n",
            "  warn(\"\"\"Cannot parse header or footer so it will be ignored\"\"\")\n",
            "/usr/local/lib/python3.10/dist-packages/openpyxl/worksheet/_reader.py:329: UserWarning: Conditional Formatting extension is not supported and will be removed\n",
            "  warn(msg)\n"
          ]
        },
        {
          "output_type": "execute_result",
          "data": {
            "text/plain": [
              "['佐藤', '田中', '株式会社DEF商事', '株式会社ABCホールディングス']"
            ]
          },
          "metadata": {},
          "execution_count": 23
        }
      ]
    },
    {
      "cell_type": "markdown",
      "source": [
        "## ファイル名変更とフォルダ移動を行う"
      ],
      "metadata": {
        "id": "dur0QoGrNShv"
      }
    },
    {
      "cell_type": "code",
      "source": [
        "for file in files:\n",
        "  if check_excel_file(file):\n",
        "    wb = openpyxl.load_workbook(file)\n",
        "    if check_invoice_excel_file(wb):\n",
        "      new_file_name,new_dir_name=get_new_invoice_file_name(wb)\n",
        "      new_dir_path = make_new_invoice_dir(new_dir_name)\n",
        "      shutil.move(file, new_dir_path+'/'+new_file_name)"
      ],
      "metadata": {
        "id": "p0NfLEDHNWPm"
      },
      "execution_count": 30,
      "outputs": []
    }
  ]
}