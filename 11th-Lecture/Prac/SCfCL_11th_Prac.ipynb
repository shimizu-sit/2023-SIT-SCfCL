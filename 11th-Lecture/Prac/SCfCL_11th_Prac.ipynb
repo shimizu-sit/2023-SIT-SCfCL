{
  "cells": [
    {
      "cell_type": "markdown",
      "metadata": {
        "id": "8qZfGQT4EuLM"
      },
      "source": [
        "# コンピュータリテラシ発展 第11回 課題\n",
        "\n",
        "今回の課題は**Pandasを使ったデータ集計とグラフ化**の問題です．"
      ]
    },
    {
      "cell_type": "markdown",
      "metadata": {
        "id": "Y27E6l7IO9pD"
      },
      "source": [
        "## 課題について\n",
        "\n",
        "### 作業場所\n",
        "作業場所は授業時に使用している場所で行ってください．また，採点時の効率化のために作業場所までパスを事前に**`folder_path`**に設定してください．\n",
        "\n",
        "### CSVデータ\n",
        "CSVデータは授業時に使用した「**data_analysis**」を使用します．なので，作業場所もそのフォルダを含んでパスを設定してください．\n",
        "\n",
        "### **`folder_path`**の例\n",
        "\n",
        "授業時のフォルダが次の通りとします．\n",
        "```\n",
        "/content/drive/MyDrive/SCfCL\n",
        "```\n",
        "このパスに，「data_analysis」フォルダを追加するので作業場所は次のようになります．\n",
        "```\n",
        "/content/drive/MyDrive/SCfCL/data_analysis/\n",
        "```\n",
        "よって，最終的な`folder_path`は次のようになります．\n",
        "```\n",
        "folder_path = '/content/drive/MyDrive/SCfCL/data_analysis/'\n",
        "```\n",
        "**注意事項**：パスの最後の `/` がないとエラーの原因になります．"
      ]
    },
    {
      "cell_type": "code",
      "execution_count": null,
      "metadata": {
        "id": "Nv8uHS1VR-dc"
      },
      "outputs": [],
      "source": [
        "# フォルダパスの設定\n",
        "folder_path = ''"
      ]
    },
    {
      "cell_type": "markdown",
      "metadata": {
        "id": "SqGZqqvOonpU"
      },
      "source": [
        "## ライブラリをインポート\n",
        "各自必要と思うライブラリなどをインポートしてください．"
      ]
    },
    {
      "cell_type": "code",
      "execution_count": null,
      "metadata": {
        "id": "wPr-hUowogGZ"
      },
      "outputs": [],
      "source": []
    },
    {
      "cell_type": "markdown",
      "metadata": {
        "id": "SBHSm4ORH66A"
      },
      "source": [
        "## 問題1：データを縦に結合\n",
        "\n",
        "Pandasを用いて，`transaction_1.csv`と`transaction_2.csv`ファイルを縦に結合してください．  \n",
        "インデックスラベルは結合したデータに新しく作成してください．  \n",
        "結合したデータ名は`transaction`としてください．"
      ]
    },
    {
      "cell_type": "code",
      "execution_count": null,
      "metadata": {
        "id": "iMign_KuH-UR"
      },
      "outputs": [],
      "source": []
    },
    {
      "cell_type": "markdown",
      "metadata": {
        "id": "fET-7B9zH-bR"
      },
      "source": [
        "## 問題2：特定のキーを元にデータを横に結合\n",
        "\n",
        "問題1で作成した`transaction`データと`item`とを商品IDをキーにして結合してください．  \n",
        "結合したデータ名は`sales_item`としてください．"
      ]
    },
    {
      "cell_type": "code",
      "execution_count": null,
      "metadata": {
        "id": "qjcMj-WAILfI"
      },
      "outputs": [],
      "source": []
    },
    {
      "cell_type": "markdown",
      "metadata": {
        "id": "tv0fA6ilRzWf"
      },
      "source": [
        "## 問題3：データの集計\n",
        "\n",
        "問題2で結合したデータを使って，商品IDごとの合計購買金額と購入数で集計します．  \n",
        "集計したデータ名は`sales_per_item`としてください．"
      ]
    },
    {
      "cell_type": "code",
      "execution_count": null,
      "metadata": {
        "id": "OEgx49gdSBMe"
      },
      "outputs": [],
      "source": []
    },
    {
      "cell_type": "markdown",
      "metadata": {
        "id": "hAVYt0n0KefQ"
      },
      "source": [
        "## 問題4：データの集計\n",
        "\n",
        "問題2で結合したデータを使って，顧客IDごとの平均購入数で集計します．  \n",
        "集計したデータ名は`sales_per_customer`としてください．"
      ]
    },
    {
      "cell_type": "code",
      "execution_count": null,
      "metadata": {
        "id": "5gIg5COoLB0j"
      },
      "outputs": [],
      "source": []
    },
    {
      "cell_type": "markdown",
      "metadata": {
        "id": "ooJ3OKQGLGqN"
      },
      "source": [
        "## 問題5：データの可視化\n",
        "\n",
        "問題3で作成したデータを棒グラフにして可視化してください．\n",
        "- グラフタイトル：商品IDごとの購入数\n",
        "- 縦軸ラベル：購入数(個)\n",
        "- 横軸ラベル：商品ID\n",
        "\n",
        "実行結果は次のようになります．\n",
        "\n",
        "![](https://github.com/shimizu-sit/2023-SIT-SCfCL/blob/main/11th-Lecture/Prac/prac11-5.png?raw=true)"
      ]
    },
    {
      "cell_type": "code",
      "execution_count": null,
      "metadata": {
        "id": "M6KJbzYILS90"
      },
      "outputs": [],
      "source": []
    },
    {
      "cell_type": "markdown",
      "metadata": {
        "id": "-8ygwZupLT7z"
      },
      "source": [
        "## 問題6：データの可視化\n",
        "\n",
        "問題4で作成したデータを折れ線グラフにして可視化してください．\n",
        "- グラフタイトル：顧客IDごとの平均購入数\n",
        "- 縦軸ラベル：平均購入数(個)\n",
        "- 横軸ラベル：顧客ID\n",
        "\n",
        "実行結果は次のようになります．\n",
        "\n",
        "![](https://github.com/shimizu-sit/2023-SIT-SCfCL/blob/main/11th-Lecture/Prac/prac11-6.png?raw=true)"
      ]
    },
    {
      "cell_type": "code",
      "execution_count": null,
      "metadata": {
        "id": "XQVD41t3NVcA"
      },
      "outputs": [],
      "source": []
    }
  ],
  "metadata": {
    "colab": {
      "provenance": []
    },
    "kernelspec": {
      "display_name": "Python 3",
      "name": "python3"
    },
    "language_info": {
      "name": "python"
    }
  },
  "nbformat": 4,
  "nbformat_minor": 0
}
