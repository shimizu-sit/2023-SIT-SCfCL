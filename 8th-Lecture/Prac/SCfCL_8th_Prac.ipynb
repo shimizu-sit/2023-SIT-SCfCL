{
  "cells": [
    {
      "cell_type": "markdown",
      "metadata": {
        "id": "8qZfGQT4EuLM"
      },
      "source": [
        "# コンピュータリテラシ発展 第8回 課題\n",
        "\n",
        "今回の課題は**フォルダやファイルの操作**の問題が4問です．"
      ]
    },
    {
      "cell_type": "markdown",
      "metadata": {
        "id": "tIfC-YwmE1wP"
      },
      "source": [
        "## 注意事項\n",
        "\n",
        "このノートブックは，授業中に作成したフォルダを利用してください．\n",
        "\n",
        "`/content/drive/MyDrive/???`\n",
        "\n",
        "課題内で「作業場所」という言葉が出てきます．それは授業中に作成したフォルダのことです．"
      ]
    },
    {
      "cell_type": "markdown",
      "metadata": {
        "id": "SqGZqqvOonpU"
      },
      "source": [
        "## ライブラリをインポート\n",
        "各自必要と思うライブラリやメソッドなどをインポートしてください．"
      ]
    },
    {
      "cell_type": "code",
      "execution_count": null,
      "metadata": {
        "id": "wPr-hUowogGZ"
      },
      "outputs": [],
      "source": []
    },
    {
      "cell_type": "markdown",
      "metadata": {
        "id": "UhFuNEeJHw78"
      },
      "source": [
        "## 問題1：ファイルの作成\n",
        "\n",
        "作業場所に「Prac08-1.txt」という名前の新しいファイルを作成し，「コンピュータリテラシ発展 課題08-1」と書き込んでください．\n"
      ]
    },
    {
      "cell_type": "code",
      "execution_count": null,
      "metadata": {
        "id": "bFs8zE75H1sJ"
      },
      "outputs": [],
      "source": []
    },
    {
      "cell_type": "markdown",
      "metadata": {
        "id": "SBHSm4ORH66A"
      },
      "source": [
        "## 問題2：フォルダの作成と移動\n",
        "\n",
        "作業場所に「Prac08-1」という名前の新しいフォルダを作成してください．  \n",
        "問題1で作成したファイルをこのフォルダに移動してください．"
      ]
    },
    {
      "cell_type": "code",
      "execution_count": null,
      "metadata": {
        "id": "iMign_KuH-UR"
      },
      "outputs": [],
      "source": []
    },
    {
      "cell_type": "markdown",
      "metadata": {
        "id": "fET-7B9zH-bR"
      },
      "source": [
        "## 問題3：フォルダのコピー\n",
        "\n",
        "問題2で作成したフォルダをコピーして「Prac08-1-copy」としてください．\n"
      ]
    },
    {
      "cell_type": "code",
      "execution_count": null,
      "metadata": {
        "id": "qjcMj-WAILfI"
      },
      "outputs": [],
      "source": []
    },
    {
      "cell_type": "markdown",
      "metadata": {
        "id": "tv0fA6ilRzWf"
      },
      "source": [
        "## 問題4：ファイル名の変更\n",
        "\n",
        "問題3でコピーしたフォルダ内にあるファイル名を「Prac08-1-copy.txt」としてください．\n"
      ]
    },
    {
      "cell_type": "code",
      "execution_count": null,
      "metadata": {
        "id": "OEgx49gdSBMe"
      },
      "outputs": [],
      "source": []
    }
  ],
  "metadata": {
    "colab": {
      "provenance": [],
      "toc_visible": true
    },
    "kernelspec": {
      "display_name": "Python 3",
      "name": "python3"
    },
    "language_info": {
      "name": "python"
    }
  },
  "nbformat": 4,
  "nbformat_minor": 0
}
