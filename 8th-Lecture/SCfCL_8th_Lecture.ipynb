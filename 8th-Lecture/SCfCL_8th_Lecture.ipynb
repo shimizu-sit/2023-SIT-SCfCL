{
  "nbformat": 4,
  "nbformat_minor": 0,
  "metadata": {
    "colab": {
      "provenance": []
    },
    "kernelspec": {
      "name": "python3",
      "display_name": "Python 3"
    },
    "language_info": {
      "name": "python"
    }
  },
  "cells": [
    {
      "cell_type": "markdown",
      "source": [
        "# フォルダ・ファイル操作\n",
        "\n",
        "pythonでフォルダやファイルの操作をする"
      ],
      "metadata": {
        "id": "oDRdL_RAFCTC"
      }
    },
    {
      "cell_type": "markdown",
      "source": [
        "## 現在の場所を確認する\n",
        "\n",
        "`os` モジュールを使ってColabで現在の場所を確認しまう．"
      ],
      "metadata": {
        "id": "rDbeXODCFnt6"
      }
    },
    {
      "cell_type": "code",
      "source": [
        "import os\n",
        "\n",
        "path = os.getcwd();\n",
        "print(path)"
      ],
      "metadata": {
        "colab": {
          "base_uri": "https://localhost:8080/"
        },
        "id": "CXvtMBmOGDm8",
        "outputId": "a596b00a-0ef5-47d1-f280-3538d133ce37"
      },
      "execution_count": null,
      "outputs": [
        {
          "output_type": "stream",
          "name": "stdout",
          "text": [
            "/content\n"
          ]
        }
      ]
    },
    {
      "cell_type": "markdown",
      "source": [
        "## フォルダにあるファイルを一覧表示する\n",
        "\n",
        "`listdir()`関数を使って現在の場所にあるファイル一覧を表示します．"
      ],
      "metadata": {
        "id": "3eqyX2T0Gv1N"
      }
    },
    {
      "cell_type": "code",
      "source": [
        "import os, pprint\n",
        "\n",
        "path = os.getcwd()\n",
        "files = os.listdir(path)\n",
        "\n",
        "pprint.pprint(files)"
      ],
      "metadata": {
        "colab": {
          "base_uri": "https://localhost:8080/"
        },
        "id": "Lz755eGBHAX9",
        "outputId": "933211bd-943c-48b5-eda6-9befc1372d1b"
      },
      "execution_count": null,
      "outputs": [
        {
          "output_type": "stream",
          "name": "stdout",
          "text": [
            "['.config', 'drive', 'sample_data']\n"
          ]
        }
      ]
    },
    {
      "cell_type": "markdown",
      "source": [
        "## Google Driveをマウントしてファイルの一覧を表示する"
      ],
      "metadata": {
        "id": "zsGmBnaXHrAn"
      }
    },
    {
      "cell_type": "code",
      "source": [
        "import os, pprint\n",
        "\n",
        "path = '/content/drive/MyDrive/SIT_2023/SCfCL'\n",
        "files = os.listdir(path)\n",
        "\n",
        "pprint.pprint(files)"
      ],
      "metadata": {
        "colab": {
          "base_uri": "https://localhost:8080/"
        },
        "id": "C60w8QfiL0Zs",
        "outputId": "e00c4c8d-05cb-4068-f6ef-44b069c1ab6a"
      },
      "execution_count": null,
      "outputs": [
        {
          "output_type": "stream",
          "name": "stdout",
          "text": [
            "['SCfCL-2nd-Prac.ipynb',\n",
            " 'SCfCL-3rd-Lecture.ipynb',\n",
            " 'SCfCL-3rd-Prac.ipynb',\n",
            " 'SCfCL-2nd-Prac-Answer.ipynb',\n",
            " '__pycache__',\n",
            " 'hello.py',\n",
            " '.ipynb_checkpoints',\n",
            " 'SCfCL-4th-Lecture.ipynb',\n",
            " 'SCfCL-4th-Prac.ipynb',\n",
            " 'SCfCL-3rd-Prac-Answer.ipynb',\n",
            " 'shopping.xlsx',\n",
            " 'SCfCL-5th-Lecture.ipynb',\n",
            " 'generation-dummy-data.ipynb',\n",
            " 'SCfCL-5th-Prac.ipynb',\n",
            " 'SCfCL-4th-Prac-Answer.ipynb',\n",
            " 'memberlist.xlsx',\n",
            " 'SCfCL-5th-Prac-Answer.ipynb',\n",
            " 'newfile.xlsx',\n",
            " 'create_sheet.xlsx',\n",
            " 'create_sheet2.xlsx',\n",
            " 'remove_sheet.xlsx',\n",
            " 'cell.xlsx',\n",
            " 'font.xlsx',\n",
            " 'row_column.xlsx',\n",
            " 'row_column_hidden.xlsx',\n",
            " 'freeze-panes-1.xlsx',\n",
            " 'SCfCL-6th-Lecture.ipynb',\n",
            " '6th-prac-test.xlsx',\n",
            " '6th-Practice-memo.ipynb',\n",
            " 'SCfCL-6th-Prac.ipynb',\n",
            " 'SCfCL-6th-Prac-1.xlsx',\n",
            " 'SCfCL-6th-Prac-2.xlsx',\n",
            " 'SCfCL-6th-Prac-3.xlsx',\n",
            " 'SCfCL-7th-Prac.ipynb',\n",
            " 'SCfCL-6th-Prac-Answer.ipynb',\n",
            " 'workinghours.xlsx',\n",
            " 'SCfCL-7th-Prac-1.xlsx',\n",
            " 'SCfCL-7th-Prac-2.xlsx',\n",
            " 'SCfCL-7th-Prac-3.xlsx',\n",
            " 'SCfCL-7th-Prac-Answer.ipynb',\n",
            " 'SCfCL-8th-Lecture.ipynb']\n"
          ]
        }
      ]
    },
    {
      "cell_type": "markdown",
      "source": [
        "## 相対パスを使ってファイル一覧を表示する\n",
        "\n",
        "現在の場所の一つ上の階層のファイル一覧を表示する"
      ],
      "metadata": {
        "id": "ZvMHPkq-M37V"
      }
    },
    {
      "cell_type": "code",
      "source": [
        "import os, pprint\n",
        "\n",
        "path = '../'\n",
        "files = os.listdir(path)\n",
        "\n",
        "pprint.pprint(files)"
      ],
      "metadata": {
        "colab": {
          "base_uri": "https://localhost:8080/"
        },
        "id": "hEfyDRVtM3eS",
        "outputId": "065899f6-b409-4ba1-c71c-dbb43b9a2f0a"
      },
      "execution_count": null,
      "outputs": [
        {
          "output_type": "stream",
          "name": "stdout",
          "text": [
            "['boot',\n",
            " 'proc',\n",
            " 'lib',\n",
            " 'bin',\n",
            " 'usr',\n",
            " 'run',\n",
            " 'var',\n",
            " 'sys',\n",
            " 'lib32',\n",
            " 'opt',\n",
            " 'home',\n",
            " 'srv',\n",
            " 'lib64',\n",
            " 'root',\n",
            " 'sbin',\n",
            " 'media',\n",
            " 'etc',\n",
            " 'libx32',\n",
            " 'mnt',\n",
            " 'tmp',\n",
            " 'dev',\n",
            " 'content',\n",
            " '.dockerenv',\n",
            " 'tools',\n",
            " 'datalab',\n",
            " 'python-apt',\n",
            " 'NGC-DL-CONTAINER-LICENSE',\n",
            " 'cuda-keyring_1.0-1_all.deb']\n"
          ]
        }
      ]
    },
    {
      "cell_type": "markdown",
      "source": [
        "## 再帰的にフォルダの中身を表示する\n",
        "\n",
        "`glob`モジュールを使用するのでインポートする．"
      ],
      "metadata": {
        "id": "IrVHXCpzWxkK"
      }
    },
    {
      "cell_type": "code",
      "source": [
        "import glob, pprint\n",
        "\n",
        "files = glob.glob('/content/drive/MyDrive/SIT_2023/**', recursive=True)\n",
        "pprint.pprint(files)"
      ],
      "metadata": {
        "colab": {
          "base_uri": "https://localhost:8080/"
        },
        "id": "NVTLfGJZW-Xh",
        "outputId": "10c93c79-ef5f-4a0e-8b58-ec794f3c6ac6"
      },
      "execution_count": null,
      "outputs": [
        {
          "output_type": "stream",
          "name": "stdout",
          "text": [
            "['/content/drive/MyDrive/SIT_2023/',\n",
            " '/content/drive/MyDrive/SIT_2023/WS2B',\n",
            " '/content/drive/MyDrive/SIT_2023/WS2B/WS2B-3rd-Lecture.ipynb',\n",
            " '/content/drive/MyDrive/SIT_2023/WS2B/WS2B-5th-Lecture-image.ipynb',\n",
            " '/content/drive/MyDrive/SIT_2023/SCfCL',\n",
            " '/content/drive/MyDrive/SIT_2023/SCfCL/SCfCL-2nd-Prac.ipynb',\n",
            " '/content/drive/MyDrive/SIT_2023/SCfCL/SCfCL-3rd-Lecture.ipynb',\n",
            " '/content/drive/MyDrive/SIT_2023/SCfCL/SCfCL-3rd-Prac.ipynb',\n",
            " '/content/drive/MyDrive/SIT_2023/SCfCL/SCfCL-2nd-Prac-Answer.ipynb',\n",
            " '/content/drive/MyDrive/SIT_2023/SCfCL/__pycache__',\n",
            " '/content/drive/MyDrive/SIT_2023/SCfCL/__pycache__/hello.cpython-310.pyc',\n",
            " '/content/drive/MyDrive/SIT_2023/SCfCL/hello.py',\n",
            " '/content/drive/MyDrive/SIT_2023/SCfCL/SCfCL-4th-Lecture.ipynb',\n",
            " '/content/drive/MyDrive/SIT_2023/SCfCL/SCfCL-4th-Prac.ipynb',\n",
            " '/content/drive/MyDrive/SIT_2023/SCfCL/SCfCL-3rd-Prac-Answer.ipynb',\n",
            " '/content/drive/MyDrive/SIT_2023/SCfCL/shopping.xlsx',\n",
            " '/content/drive/MyDrive/SIT_2023/SCfCL/SCfCL-5th-Lecture.ipynb',\n",
            " '/content/drive/MyDrive/SIT_2023/SCfCL/generation-dummy-data.ipynb',\n",
            " '/content/drive/MyDrive/SIT_2023/SCfCL/SCfCL-5th-Prac.ipynb',\n",
            " '/content/drive/MyDrive/SIT_2023/SCfCL/SCfCL-4th-Prac-Answer.ipynb',\n",
            " '/content/drive/MyDrive/SIT_2023/SCfCL/memberlist.xlsx',\n",
            " '/content/drive/MyDrive/SIT_2023/SCfCL/SCfCL-5th-Prac-Answer.ipynb',\n",
            " '/content/drive/MyDrive/SIT_2023/SCfCL/newfile.xlsx',\n",
            " '/content/drive/MyDrive/SIT_2023/SCfCL/create_sheet.xlsx',\n",
            " '/content/drive/MyDrive/SIT_2023/SCfCL/create_sheet2.xlsx',\n",
            " '/content/drive/MyDrive/SIT_2023/SCfCL/remove_sheet.xlsx',\n",
            " '/content/drive/MyDrive/SIT_2023/SCfCL/cell.xlsx',\n",
            " '/content/drive/MyDrive/SIT_2023/SCfCL/font.xlsx',\n",
            " '/content/drive/MyDrive/SIT_2023/SCfCL/row_column.xlsx',\n",
            " '/content/drive/MyDrive/SIT_2023/SCfCL/row_column_hidden.xlsx',\n",
            " '/content/drive/MyDrive/SIT_2023/SCfCL/freeze-panes-1.xlsx',\n",
            " '/content/drive/MyDrive/SIT_2023/SCfCL/SCfCL-6th-Lecture.ipynb',\n",
            " '/content/drive/MyDrive/SIT_2023/SCfCL/6th-prac-test.xlsx',\n",
            " '/content/drive/MyDrive/SIT_2023/SCfCL/6th-Practice-memo.ipynb',\n",
            " '/content/drive/MyDrive/SIT_2023/SCfCL/SCfCL-6th-Prac.ipynb',\n",
            " '/content/drive/MyDrive/SIT_2023/SCfCL/SCfCL-6th-Prac-1.xlsx',\n",
            " '/content/drive/MyDrive/SIT_2023/SCfCL/SCfCL-6th-Prac-2.xlsx',\n",
            " '/content/drive/MyDrive/SIT_2023/SCfCL/SCfCL-6th-Prac-3.xlsx',\n",
            " '/content/drive/MyDrive/SIT_2023/SCfCL/SCfCL-7th-Prac.ipynb',\n",
            " '/content/drive/MyDrive/SIT_2023/SCfCL/SCfCL-6th-Prac-Answer.ipynb',\n",
            " '/content/drive/MyDrive/SIT_2023/SCfCL/workinghours.xlsx',\n",
            " '/content/drive/MyDrive/SIT_2023/SCfCL/SCfCL-7th-Prac-1.xlsx',\n",
            " '/content/drive/MyDrive/SIT_2023/SCfCL/SCfCL-7th-Prac-2.xlsx',\n",
            " '/content/drive/MyDrive/SIT_2023/SCfCL/SCfCL-7th-Prac-3.xlsx',\n",
            " '/content/drive/MyDrive/SIT_2023/SCfCL/SCfCL-7th-Prac-Answer.ipynb',\n",
            " '/content/drive/MyDrive/SIT_2023/SCfCL/SCfCL-8th-Lecture.ipynb',\n",
            " '/content/drive/MyDrive/SIT_2023/RePPfB',\n",
            " '/content/drive/MyDrive/SIT_2023/RePPfB/RePPfB-12th-speculation.ipynb',\n",
            " '/content/drive/MyDrive/SIT_2023/RePPfB/RePPfB-13th-speculation.ipynb',\n",
            " '/content/drive/MyDrive/SIT_2023/RePPfB/RePPfB-14th-speculation.ipynb',\n",
            " '/content/drive/MyDrive/SIT_2023/RePPfB/RePPfB-15th-speculation.ipynb',\n",
            " '/content/drive/MyDrive/SIT_2023/WorkHack',\n",
            " '/content/drive/MyDrive/SIT_2023/WorkHack/MoodleHack',\n",
            " '/content/drive/MyDrive/SIT_2023/WorkHack/MoodleHack/jbxl_download_20231023144535.xlsx',\n",
            " '/content/drive/MyDrive/SIT_2023/WorkHack/MoodleHack/TakeAttendance.ipynb',\n",
            " '/content/drive/MyDrive/SIT_2023/Resarch',\n",
            " '/content/drive/MyDrive/SIT_2023/Resarch/PyTorch-Tutorial',\n",
            " '/content/drive/MyDrive/SIT_2023/Resarch/PyTorch-Tutorial/Quickstart.ipynb',\n",
            " '/content/drive/MyDrive/SIT_2023/Resarch/PyTorch-Tutorial/PyTorch-Learn-the-Basics.ipynb',\n",
            " '/content/drive/MyDrive/SIT_2023/Resarch/PyTorch-Tutorial/Tensors.ipynb',\n",
            " '/content/drive/MyDrive/SIT_2023/Resarch/3DMotionAnalyze',\n",
            " '/content/drive/MyDrive/SIT_2023/Resarch/3DMotionAnalyze/utaka_test_2.csv',\n",
            " '/content/drive/MyDrive/SIT_2023/Resarch/3DMotionAnalyze/utaka_test_1.csv',\n",
            " '/content/drive/MyDrive/SIT_2023/Resarch/3DMotionAnalyze/3D-Motion-ML.ipynb',\n",
            " '/content/drive/MyDrive/SIT_2023/Resarch/Learning-Qiskit',\n",
            " '/content/drive/MyDrive/SIT_2023/Resarch/Learning-Qiskit/QuantumCircuitDraw.ipynb']\n"
          ]
        }
      ]
    },
    {
      "cell_type": "markdown",
      "source": [
        "## フォルダを作成する\n",
        "\n",
        "`makedirs()`関数を使って新規でフォルダを作成する．\n",
        "- 第1引数：作成するフォルダ名\n",
        "- 第2引数：`exist_ok=True`とすることですでに作成されていてもエラーを発生させない（省略可）\n",
        "\n",
        "リンク：https://docs.python.org/ja/3/library/os.html#os.makedirs"
      ],
      "metadata": {
        "id": "uzan9eZmZrTu"
      }
    },
    {
      "cell_type": "code",
      "source": [
        "import os, pprint\n",
        "\n",
        "os.makedirs('tmp', exist_ok=True)\n",
        "\n",
        "pprint.pprint(os.listdir('.'))"
      ],
      "metadata": {
        "colab": {
          "base_uri": "https://localhost:8080/"
        },
        "id": "1yX35yvYbKYD",
        "outputId": "518006c0-6a04-43ca-c8dc-139cfd3b6a36"
      },
      "execution_count": null,
      "outputs": [
        {
          "output_type": "stream",
          "name": "stdout",
          "text": [
            "['.config', 'drive', 'tmp', 'sample_data']\n"
          ]
        }
      ]
    },
    {
      "cell_type": "markdown",
      "source": [
        "## ファイルの書き込みと読み込み\n",
        "\n",
        "`open()`関数を使用してファイルの書き込みと読み込みをする\n",
        "\n",
        "関数フォーマット：`open(file, mode='r', buffering=01, encoding=None, errors=None, newline=None, closefd=True, opener=None)`\n",
        "\n",
        "`file`は開くファイル名（パスを含めることもできる）\n",
        "\n",
        "リンク：https://docs.python.org/ja/3/library/functions.html#open"
      ],
      "metadata": {
        "id": "7CPpry5shP-M"
      }
    },
    {
      "cell_type": "code",
      "source": [
        "with open('./file.txt', 'x') as f:\n",
        "  f.write('samele text')"
      ],
      "metadata": {
        "id": "D-6gfmO1i47W"
      },
      "execution_count": null,
      "outputs": []
    },
    {
      "cell_type": "markdown",
      "source": [
        "先ほど作成したファイルを読み込みで表示します．"
      ],
      "metadata": {
        "id": "Z0iVWDwSjVVO"
      }
    },
    {
      "cell_type": "code",
      "source": [
        "with open('./file.txt') as f:\n",
        "  text = f.read()\n",
        "  print(text)"
      ],
      "metadata": {
        "colab": {
          "base_uri": "https://localhost:8080/"
        },
        "id": "-_quwbOhjBfs",
        "outputId": "52e13548-bd22-4ef8-d450-60c4cb0ea9d2"
      },
      "execution_count": null,
      "outputs": [
        {
          "output_type": "stream",
          "name": "stdout",
          "text": [
            "samele text\n"
          ]
        }
      ]
    },
    {
      "cell_type": "markdown",
      "source": [
        "## ファイルを移動する\n",
        "\n",
        "`shutil`モジュールの`move()`関数を使って対象ファイルを移動します．\n",
        "第1引数：移動対象となるファイルパス\n",
        "第2引数：移動先のパス\n",
        "\n",
        "今回は先ほど作成した「file.txt」を「tmp」フォルダ内に移動する．"
      ],
      "metadata": {
        "id": "aJ7AQqNwjrKW"
      }
    },
    {
      "cell_type": "code",
      "source": [
        "import shutil\n",
        "\n",
        "new_path = shutil.move('./file.txt', 'tmp/')\n",
        "\n",
        "print(new_path)"
      ],
      "metadata": {
        "colab": {
          "base_uri": "https://localhost:8080/"
        },
        "id": "UB2xnrhGkPuX",
        "outputId": "4911e3ce-ff7e-415c-ad00-65d56b7f817d"
      },
      "execution_count": null,
      "outputs": [
        {
          "output_type": "stream",
          "name": "stdout",
          "text": [
            "tmp/file.txt\n"
          ]
        }
      ]
    },
    {
      "cell_type": "markdown",
      "source": [
        "## ファイルをコピーする\n",
        "`shutil`モジュールの`copy`関数を使って先ほど「tmp」フォルダに移動させた「file.txt」ファイルのコピーをカレントディレクトリに作成する"
      ],
      "metadata": {
        "id": "dFsG2Di6k4Qp"
      }
    },
    {
      "cell_type": "code",
      "source": [
        "import shutil\n",
        "\n",
        "shutil.copy('tmp/file.txt', './')"
      ],
      "metadata": {
        "colab": {
          "base_uri": "https://localhost:8080/",
          "height": 35
        },
        "id": "tahrx7BglMt7",
        "outputId": "80f09498-9118-48e1-8305-3c3700144fb1"
      },
      "execution_count": null,
      "outputs": [
        {
          "output_type": "execute_result",
          "data": {
            "text/plain": [
              "'./file.txt'"
            ],
            "application/vnd.google.colaboratory.intrinsic+json": {
              "type": "string"
            }
          },
          "metadata": {},
          "execution_count": 24
        }
      ]
    }
  ]
}