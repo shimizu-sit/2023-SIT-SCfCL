{
 "cells": [
  {
   "cell_type": "markdown",
   "id": "320ef94b-0238-4986-bd75-efa38d49803a",
   "metadata": {},
   "source": [
    "# 第7回コンピュータリテラシ発展　授業資料用\n",
    "\n",
    "今回は，PythonでExcelデータを読み込み，そのデータを元にExcelファイルにグラフを作成する．"
   ]
  },
  {
   "cell_type": "markdown",
   "id": "8bad6020-794e-44b9-b279-c92ba5df7de8",
   "metadata": {},
   "source": [
    "## インポート\n",
    "必要なライブラリをインポートする"
   ]
  },
  {
   "cell_type": "code",
   "execution_count": 4,
   "id": "2579bbcd-cb08-4b67-a26f-2cb9d700d074",
   "metadata": {
    "tags": []
   },
   "outputs": [],
   "source": [
    "import openpyxl as op\n",
    "from openpyxl.chart import BarChart, Reference"
   ]
  },
  {
   "cell_type": "markdown",
   "id": "047fb402-0bee-484d-9ef2-3e92da4614f3",
   "metadata": {},
   "source": [
    "## グラフを作る\n",
    "\n",
    "事前にデータが入力されたExcelファイル(sample_chart.xlsx)が用意されているのでそれを読み込んで作業を行う"
   ]
  },
  {
   "cell_type": "code",
   "execution_count": 6,
   "id": "7b6822dc-b246-4dab-8eff-90c8782865f0",
   "metadata": {
    "tags": []
   },
   "outputs": [],
   "source": [
    "wb = op.load_workbook('sample_chart.xlsx')\n",
    "ws = wb['Sheet']\n",
    "\n",
    "ref_obj = Reference(ws, min_col=1, min_row=1, max_col=1, max_row=10)\n",
    "\n",
    "chart = BarChart()\n",
    "chart.title = 'sample chart'\n",
    "chart.add_data(ref_obj)\n",
    "\n",
    "ws.add_chart(chart, 'C1')\n",
    "wb.save('sample_chart-output.xlsx')"
   ]
  }
 ],
 "metadata": {
  "kernelspec": {
   "display_name": "Python 3 (ipykernel)",
   "language": "python",
   "name": "python3"
  },
  "language_info": {
   "codemirror_mode": {
    "name": "ipython",
    "version": 3
   },
   "file_extension": ".py",
   "mimetype": "text/x-python",
   "name": "python",
   "nbconvert_exporter": "python",
   "pygments_lexer": "ipython3",
   "version": "3.10.13"
  },
  "toc-showmarkdowntxt": false
 },
 "nbformat": 4,
 "nbformat_minor": 5
}
