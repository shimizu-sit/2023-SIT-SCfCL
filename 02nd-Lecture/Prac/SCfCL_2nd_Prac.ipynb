{
  "nbformat": 4,
  "nbformat_minor": 0,
  "metadata": {
    "colab": {
      "provenance": []
    },
    "kernelspec": {
      "name": "python3",
      "display_name": "Python 3"
    },
    "language_info": {
      "name": "python"
    }
  },
  "cells": [
    {
      "cell_type": "markdown",
      "source": [
        "問題1: 年齢を入力して，18歳未満なら「未成年」，18歳以上なら「成年」と出力するプログラムを書いてください．"
      ],
      "metadata": {
        "id": "UhFuNEeJHw78"
      }
    },
    {
      "cell_type": "code",
      "source": [],
      "metadata": {
        "id": "bFs8zE75H1sJ"
      },
      "execution_count": null,
      "outputs": []
    },
    {
      "cell_type": "markdown",
      "source": [
        "問題2: 2つの数値を入力して，それらの数値が等しい場合は「等しい」，異なる場合は「異なる」と出力するプログラムを書いてください．"
      ],
      "metadata": {
        "id": "Phs5RhCjH2I8"
      }
    },
    {
      "cell_type": "code",
      "source": [],
      "metadata": {
        "id": "guAjgZmOH3s8"
      },
      "execution_count": null,
      "outputs": []
    },
    {
      "cell_type": "markdown",
      "source": [
        "問題3: 整数を入力して，その数値が偶数なら「偶数」，奇数なら「奇数」と出力するプログラムを書いてください．"
      ],
      "metadata": {
        "id": "ysctT0c6H34v"
      }
    },
    {
      "cell_type": "code",
      "source": [],
      "metadata": {
        "id": "79e19z_AH6tZ"
      },
      "execution_count": null,
      "outputs": []
    },
    {
      "cell_type": "markdown",
      "source": [
        "問題4: 1から7までの整数を入力して，それに対応する曜日を表示するプログラムを書いてください．例えば，1なら「月曜日」，2なら「火曜日」という具体的な表示が必要です．"
      ],
      "metadata": {
        "id": "SBHSm4ORH66A"
      }
    },
    {
      "cell_type": "code",
      "source": [],
      "metadata": {
        "id": "iMign_KuH-UR"
      },
      "execution_count": null,
      "outputs": []
    },
    {
      "cell_type": "markdown",
      "source": [
        "問題5: 点数を入力して，点数に応じて以下の評価を出力するプログラムを書いてください．\n",
        "- 点数が90以上の場合: 「S」\n",
        "- 点数が80以上90未満の場合:「A」\n",
        "- 点数が70以上80未満の場合:「B」\n",
        "- 点数が60以上70未満の場合:「C」\n",
        "- 点数が60未満の場合:「D」\n"
      ],
      "metadata": {
        "id": "fET-7B9zH-bR"
      }
    },
    {
      "cell_type": "code",
      "source": [],
      "metadata": {
        "id": "qjcMj-WAILfI"
      },
      "execution_count": null,
      "outputs": []
    }
  ]
}