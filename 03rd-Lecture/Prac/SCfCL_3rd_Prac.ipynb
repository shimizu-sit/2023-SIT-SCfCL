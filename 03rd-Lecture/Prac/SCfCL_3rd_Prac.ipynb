{
  "cells": [
    {
      "cell_type": "markdown",
      "metadata": {
        "id": "8qZfGQT4EuLM"
      },
      "source": [
        "# コンピュータリテラシ発展 第3回 課題\n",
        "\n",
        "今回の課題は**リスト型**，**タプル型**，**辞書型**に関する問題をそれぞれ3問ずつ合計9問となっています．"
      ]
    },
    {
      "cell_type": "markdown",
      "metadata": {
        "id": "tIfC-YwmE1wP"
      },
      "source": [
        "## リスト（List）に関する課題"
      ]
    },
    {
      "cell_type": "markdown",
      "metadata": {
        "id": "UhFuNEeJHw78"
      },
      "source": [
        "**問題1:** 空のリストを作成し，そのリストに整数1,2,3を追加してください．"
      ]
    },
    {
      "cell_type": "code",
      "execution_count": null,
      "metadata": {
        "id": "bFs8zE75H1sJ"
      },
      "outputs": [],
      "source": []
    },
    {
      "cell_type": "markdown",
      "metadata": {
        "id": "SBHSm4ORH66A"
      },
      "source": [
        "**問題2:** リスト`[10,20,30,40,50]`の要素を逆順に並び替えてください．"
      ]
    },
    {
      "cell_type": "code",
      "execution_count": null,
      "metadata": {
        "id": "iMign_KuH-UR"
      },
      "outputs": [],
      "source": []
    },
    {
      "cell_type": "markdown",
      "metadata": {
        "id": "fET-7B9zH-bR"
      },
      "source": [
        "**問題3:** リスト`[2,4,6,8,10]`の要素をすべて2倍にしてください．"
      ]
    },
    {
      "cell_type": "code",
      "execution_count": null,
      "metadata": {
        "id": "qjcMj-WAILfI"
      },
      "outputs": [],
      "source": []
    },
    {
      "cell_type": "markdown",
      "metadata": {
        "id": "SDBlzpZ8KWsF"
      },
      "source": [
        "## タプル（Tuple）に関する課題"
      ]
    },
    {
      "cell_type": "markdown",
      "metadata": {
        "id": "mzsbS0trKi1I"
      },
      "source": [
        "**問題4:** 複数の整数を含むタプル`(1,2,3,4,5)`を作成し，その要素数を表示してください．"
      ]
    },
    {
      "cell_type": "code",
      "execution_count": null,
      "metadata": {
        "id": "Y4wMCkCcKi1I"
      },
      "outputs": [],
      "source": []
    },
    {
      "cell_type": "markdown",
      "metadata": {
        "id": "U2CRl2LUKi1J"
      },
      "source": [
        "**問題5:** 問題4で作成したタプルを利用して，インデックス3の位置にある要素を表示してください．"
      ]
    },
    {
      "cell_type": "code",
      "execution_count": null,
      "metadata": {
        "id": "RicgOWKtKi1J"
      },
      "outputs": [],
      "source": []
    },
    {
      "cell_type": "markdown",
      "metadata": {
        "id": "gZLM1QfCKi1J"
      },
      "source": [
        "**問題6:** タプル`(2,4,6,8,10)`の要素を逆順に並び替えてください．"
      ]
    },
    {
      "cell_type": "code",
      "execution_count": null,
      "metadata": {
        "id": "LunB0pMjKi1J"
      },
      "outputs": [],
      "source": []
    },
    {
      "cell_type": "markdown",
      "metadata": {
        "id": "B4dRcSufLndG"
      },
      "source": [
        "## 辞書（Dict）に関する課題"
      ]
    },
    {
      "cell_type": "markdown",
      "metadata": {
        "id": "6R2ctkJmLndU"
      },
      "source": [
        "**問題7:** 空の辞書を作成し，キーが`name`で値（バリュー）が`John`の要素を追加してください．"
      ]
    },
    {
      "cell_type": "code",
      "execution_count": null,
      "metadata": {
        "id": "84plwNKTLndU"
      },
      "outputs": [],
      "source": []
    },
    {
      "cell_type": "markdown",
      "metadata": {
        "id": "Rb4VDymiLndV"
      },
      "source": [
        "**問題8:** 辞書 `{'name': 'Alice', 'age': 30, 'city': 'New York'}` からキー `'age'` に対応する値を取得してください．"
      ]
    },
    {
      "cell_type": "code",
      "execution_count": null,
      "metadata": {
        "id": "BDgVMUdfLndV"
      },
      "outputs": [],
      "source": []
    },
    {
      "cell_type": "markdown",
      "metadata": {
        "id": "7JShvBboLndV"
      },
      "source": [
        "**問題9:** 辞書 `{'x': 10, 'y': 20, 'z': 30}` のキーと値をすべて表示してください。"
      ]
    },
    {
      "cell_type": "code",
      "execution_count": null,
      "metadata": {
        "id": "IV7rHKHKLndV"
      },
      "outputs": [],
      "source": []
    }
  ],
  "metadata": {
    "colab": {
      "provenance": [],
      "toc_visible": true
    },
    "kernelspec": {
      "display_name": "Python 3",
      "name": "python3"
    },
    "language_info": {
      "name": "python"
    }
  },
  "nbformat": 4,
  "nbformat_minor": 0
}
